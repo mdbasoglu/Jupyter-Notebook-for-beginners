{
 "cells": [
  {
   "cell_type": "markdown",
   "id": "bc57979c",
   "metadata": {},
   "source": [
    "# Beispiele in NumPy"
   ]
  },
  {
   "cell_type": "code",
   "execution_count": 1,
   "id": "914fba21",
   "metadata": {},
   "outputs": [],
   "source": [
    "import numpy as np"
   ]
  },
  {
   "cell_type": "code",
   "execution_count": 3,
   "id": "60eb416e",
   "metadata": {},
   "outputs": [
    {
     "data": {
      "text/plain": [
       "array([ 0,  1,  2,  3,  4,  5,  6,  7,  8,  9, 10, 11, 12, 13, 14, 15, 16,\n",
       "       17, 18, 19, 20, 21, 22, 23, 24, 25, 26, 27, 28, 29, 30, 31, 32, 33,\n",
       "       34, 35, 36, 37, 38, 39, 40, 41, 42, 43, 44, 45, 46, 47, 48, 49, 50,\n",
       "       51, 52, 53, 54, 55, 56, 57, 58, 59, 60, 61, 62, 63, 64, 65, 66, 67,\n",
       "       68, 69, 70, 71, 72, 73, 74, 75, 76, 77, 78, 79, 80, 81, 82, 83, 84,\n",
       "       85, 86, 87, 88, 89, 90, 91, 92, 93, 94, 95, 96, 97, 98, 99])"
      ]
     },
     "execution_count": 3,
     "metadata": {},
     "output_type": "execute_result"
    }
   ],
   "source": [
    "np.arange(100)"
   ]
  },
  {
   "cell_type": "code",
   "execution_count": 4,
   "id": "3d222b0f",
   "metadata": {},
   "outputs": [
    {
     "data": {
      "text/plain": [
       "array([ 5, 10, 15, 20, 25, 30, 35, 40, 45, 50, 55, 60, 65, 70, 75, 80, 85,\n",
       "       90, 95])"
      ]
     },
     "execution_count": 4,
     "metadata": {},
     "output_type": "execute_result"
    }
   ],
   "source": [
    "np.arange(5,100,5)"
   ]
  },
  {
   "cell_type": "code",
   "execution_count": 7,
   "id": "3eb7f906",
   "metadata": {},
   "outputs": [
    {
     "data": {
      "text/plain": [
       "array([ 0,  5, 10, 15, 20, 25, 30, 35, 40, 45, 50, 55, 60, 65, 70, 75, 80,\n",
       "       85, 90, 95])"
      ]
     },
     "execution_count": 7,
     "metadata": {},
     "output_type": "execute_result"
    }
   ],
   "source": [
    "a=np.arange(0,100,5)\n",
    "a"
   ]
  },
  {
   "cell_type": "code",
   "execution_count": 8,
   "id": "7ca8bf0a",
   "metadata": {},
   "outputs": [
    {
     "data": {
      "text/plain": [
       "numpy.ndarray"
      ]
     },
     "execution_count": 8,
     "metadata": {},
     "output_type": "execute_result"
    }
   ],
   "source": [
    "a=np.arange(0,100,5)\n",
    "type(a)"
   ]
  },
  {
   "cell_type": "code",
   "execution_count": 12,
   "id": "b35a5308",
   "metadata": {},
   "outputs": [
    {
     "data": {
      "text/plain": [
       "list"
      ]
     },
     "execution_count": 12,
     "metadata": {},
     "output_type": "execute_result"
    }
   ],
   "source": [
    "l1=[1,2,3,4,5,6,7,8,9,10]\n",
    "type(l1)\n"
   ]
  },
  {
   "cell_type": "code",
   "execution_count": 13,
   "id": "2f4cfbcd",
   "metadata": {},
   "outputs": [
    {
     "data": {
      "text/plain": [
       "array([ 1,  2,  3,  4,  5,  6,  7,  8,  9, 10])"
      ]
     },
     "execution_count": 13,
     "metadata": {},
     "output_type": "execute_result"
    }
   ],
   "source": [
    "l1=[1,2,3,4,5,6,7,8,9,10]\n",
    "type(l1)\n",
    "b=np.array(l1)\n",
    "b"
   ]
  },
  {
   "cell_type": "code",
   "execution_count": 15,
   "id": "f998c9d7",
   "metadata": {},
   "outputs": [
    {
     "data": {
      "text/plain": [
       "array(['1', '2', '3', '4', '5', '6', '7', '8', '9', '10', 'Hallo'],\n",
       "      dtype='<U21')"
      ]
     },
     "execution_count": 15,
     "metadata": {},
     "output_type": "execute_result"
    }
   ],
   "source": [
    "l1=[1,2,3,4,5,6,7,8,9,10,\"Hallo\"]\n",
    "type(l1)\n",
    "b=np.array(l1)\n",
    "type(b)\n",
    "b"
   ]
  },
  {
   "cell_type": "code",
   "execution_count": 16,
   "id": "e6ac9749",
   "metadata": {},
   "outputs": [
    {
     "data": {
      "text/plain": [
       "dtype('int64')"
      ]
     },
     "execution_count": 16,
     "metadata": {},
     "output_type": "execute_result"
    }
   ],
   "source": [
    "a.dtype"
   ]
  },
  {
   "cell_type": "code",
   "execution_count": 17,
   "id": "6c110b16",
   "metadata": {},
   "outputs": [
    {
     "data": {
      "text/plain": [
       "dtype('<U21')"
      ]
     },
     "execution_count": 17,
     "metadata": {},
     "output_type": "execute_result"
    }
   ],
   "source": [
    "b.dtype"
   ]
  },
  {
   "cell_type": "code",
   "execution_count": 18,
   "id": "c814d66c",
   "metadata": {},
   "outputs": [
    {
     "data": {
      "text/plain": [
       "array([[1, 2, 3],\n",
       "       [4, 5, 6]])"
      ]
     },
     "execution_count": 18,
     "metadata": {},
     "output_type": "execute_result"
    }
   ],
   "source": [
    "#mehrdimensionale ndarrays\n",
    "\n",
    "a2d=np.array([[1,2,3],[4,5,6]])\n",
    "a2d\n",
    "\n"
   ]
  },
  {
   "cell_type": "code",
   "execution_count": 22,
   "id": "92bc1671",
   "metadata": {},
   "outputs": [
    {
     "name": "stdout",
     "output_type": "stream",
     "text": [
      "[[1 2 3]\n",
      " [4 5 6]]\n",
      "Form:  (2, 3)\n",
      "Anzahl der Elemente:  6\n"
     ]
    }
   ],
   "source": [
    "a2d=np.array([[1,2,3],[4,5,6]])\n",
    "\n",
    "print(a2d)\n",
    "print(\"Form: \",a2d.shape)\n",
    "print(\"Anzahl der Elemente: \",a2d.size)"
   ]
  },
  {
   "cell_type": "code",
   "execution_count": 28,
   "id": "9437830e",
   "metadata": {},
   "outputs": [
    {
     "name": "stdout",
     "output_type": "stream",
     "text": [
      "[ 0  5 10 15 20 25 30 35 40 45 50 55 60 65 70 75 80 85 90 95]\n",
      "Zweites Element:  5\n",
      "Letztes Element:  95\n"
     ]
    },
    {
     "data": {
      "text/plain": [
       "array([ 5, 10, 15])"
      ]
     },
     "execution_count": 28,
     "metadata": {},
     "output_type": "execute_result"
    }
   ],
   "source": [
    "#zugriff auf Elemente\n",
    "\n",
    "print(a)\n",
    "print(\"Zweites Element: \",a[1])\n",
    "print(\"Letztes Element: \",a[-1])\n",
    "a[1:4] #Slicing"
   ]
  },
  {
   "cell_type": "code",
   "execution_count": 34,
   "id": "e085960c",
   "metadata": {},
   "outputs": [
    {
     "name": "stdout",
     "output_type": "stream",
     "text": [
      "[ 0  5 10 15 20 25 30 35 40 45 50 55 60 65 70 75 80 85 90 95]\n",
      "Zweites Element:  5\n",
      "Letztes Element:  95\n",
      "---------------------------------------------------------------------------\n",
      "Anzeigen der ersten Liste:  [1 2 3]\n",
      "Anzeigen des 2. Elementes der 2. Liste: 5\n",
      "---------------------------------------------------------------------------\n",
      "Elemente mit dem Index 1,2,3: [ 5 10 15]\n",
      "Elemente ab dem Index 3:  [15 20 25 30 35 40 45 50 55 60 65 70 75 80 85 90 95]\n",
      "Elemente bis Index 10 : [ 0  5 10 15 20 25 30 35 40 45 50]\n",
      "Erste Liste 1 bis 2:  [4]\n"
     ]
    }
   ],
   "source": [
    "print(a)\n",
    "print(\"Zweites Element: \",a[1])\n",
    "print(\"Letztes Element: \",a[-1])\n",
    "print(\"---------------------------------------------------------------------------\")\n",
    "print(\"Anzeigen der ersten Liste: \",a2d[0])\n",
    "print(\"Anzeigen des 2. Elementes der 2. Liste:\",a2d[1,1])\n",
    "\n",
    "print(\"---------------------------------------------------------------------------\")\n",
    "\n",
    "#Slicing\n",
    "print(\"Elemente mit dem Index 1,2,3:\",a[1:4])\n",
    "print(\"Elemente ab dem Index 3: \",a[3:])\n",
    "print(\"Elemente bis Index 10 :\",a[:11])\n",
    "\n",
    "print(\"Erste Liste 1 bis 2: \",a2d[1,0:1])"
   ]
  },
  {
   "cell_type": "code",
   "execution_count": 35,
   "id": "7c998bc7",
   "metadata": {},
   "outputs": [
    {
     "data": {
      "text/plain": [
       "950"
      ]
     },
     "execution_count": 35,
     "metadata": {},
     "output_type": "execute_result"
    }
   ],
   "source": [
    "#Funktionen auf alle Elemente\n",
    "\n",
    "a.sum() #Summe aller Zahlen in Array a"
   ]
  },
  {
   "cell_type": "code",
   "execution_count": null,
   "id": "e8731276",
   "metadata": {},
   "outputs": [],
   "source": []
  }
 ],
 "metadata": {
  "kernelspec": {
   "display_name": "Python 3 (ipykernel)",
   "language": "python",
   "name": "python3"
  },
  "language_info": {
   "codemirror_mode": {
    "name": "ipython",
    "version": 3
   },
   "file_extension": ".py",
   "mimetype": "text/x-python",
   "name": "python",
   "nbconvert_exporter": "python",
   "pygments_lexer": "ipython3",
   "version": "3.9.7"
  }
 },
 "nbformat": 4,
 "nbformat_minor": 5
}
