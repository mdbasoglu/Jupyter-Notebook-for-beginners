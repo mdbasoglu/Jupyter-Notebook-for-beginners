{
 "cells": [
  {
   "cell_type": "markdown",
   "id": "bc57979c",
   "metadata": {},
   "source": [
    "# Beispiele in NumPy"
   ]
  },
  {
   "cell_type": "code",
   "execution_count": 8,
   "id": "914fba21",
   "metadata": {},
   "outputs": [],
   "source": [
    "import numpy as np"
   ]
  },
  {
   "cell_type": "code",
   "execution_count": 9,
   "id": "60eb416e",
   "metadata": {},
   "outputs": [
    {
     "data": {
      "text/plain": [
       "array([ 0,  1,  2,  3,  4,  5,  6,  7,  8,  9, 10, 11, 12, 13, 14, 15, 16,\n",
       "       17, 18, 19, 20, 21, 22, 23, 24, 25, 26, 27, 28, 29, 30, 31, 32, 33,\n",
       "       34, 35, 36, 37, 38, 39, 40, 41, 42, 43, 44, 45, 46, 47, 48, 49, 50,\n",
       "       51, 52, 53, 54, 55, 56, 57, 58, 59, 60, 61, 62, 63, 64, 65, 66, 67,\n",
       "       68, 69, 70, 71, 72, 73, 74, 75, 76, 77, 78, 79, 80, 81, 82, 83, 84,\n",
       "       85, 86, 87, 88, 89, 90, 91, 92, 93, 94, 95, 96, 97, 98, 99])"
      ]
     },
     "execution_count": 9,
     "metadata": {},
     "output_type": "execute_result"
    }
   ],
   "source": [
    "np.arange(100)"
   ]
  },
  {
   "cell_type": "code",
   "execution_count": 10,
   "id": "3d222b0f",
   "metadata": {},
   "outputs": [
    {
     "data": {
      "text/plain": [
       "array([ 5, 10, 15, 20, 25, 30, 35, 40, 45, 50, 55, 60, 65, 70, 75, 80, 85,\n",
       "       90, 95])"
      ]
     },
     "execution_count": 10,
     "metadata": {},
     "output_type": "execute_result"
    }
   ],
   "source": [
    "np.arange(5,100,5)"
   ]
  },
  {
   "cell_type": "code",
   "execution_count": 11,
   "id": "3eb7f906",
   "metadata": {},
   "outputs": [
    {
     "data": {
      "text/plain": [
       "array([ 0,  5, 10, 15, 20, 25, 30, 35, 40, 45, 50, 55, 60, 65, 70, 75, 80,\n",
       "       85, 90, 95])"
      ]
     },
     "execution_count": 11,
     "metadata": {},
     "output_type": "execute_result"
    }
   ],
   "source": [
    "a=np.arange(0,100,5)\n",
    "a"
   ]
  },
  {
   "cell_type": "code",
   "execution_count": 12,
   "id": "7ca8bf0a",
   "metadata": {},
   "outputs": [
    {
     "data": {
      "text/plain": [
       "numpy.ndarray"
      ]
     },
     "execution_count": 12,
     "metadata": {},
     "output_type": "execute_result"
    }
   ],
   "source": [
    "a=np.arange(0,100,5)\n",
    "type(a)"
   ]
  },
  {
   "cell_type": "code",
   "execution_count": 13,
   "id": "b35a5308",
   "metadata": {},
   "outputs": [
    {
     "data": {
      "text/plain": [
       "list"
      ]
     },
     "execution_count": 13,
     "metadata": {},
     "output_type": "execute_result"
    }
   ],
   "source": [
    "l1=[1,2,3,4,5,6,7,8,9,10]\n",
    "type(l1)\n"
   ]
  },
  {
   "cell_type": "code",
   "execution_count": 14,
   "id": "2f4cfbcd",
   "metadata": {},
   "outputs": [
    {
     "data": {
      "text/plain": [
       "array([ 1,  2,  3,  4,  5,  6,  7,  8,  9, 10])"
      ]
     },
     "execution_count": 14,
     "metadata": {},
     "output_type": "execute_result"
    }
   ],
   "source": [
    "l1=[1,2,3,4,5,6,7,8,9,10]\n",
    "type(l1)\n",
    "b=np.array(l1)\n",
    "b"
   ]
  },
  {
   "cell_type": "code",
   "execution_count": 15,
   "id": "f998c9d7",
   "metadata": {},
   "outputs": [
    {
     "data": {
      "text/plain": [
       "array(['1', '2', '3', '4', '5', '6', '7', '8', '9', '10', 'Hallo'],\n",
       "      dtype='<U21')"
      ]
     },
     "execution_count": 15,
     "metadata": {},
     "output_type": "execute_result"
    }
   ],
   "source": [
    "l1=[1,2,3,4,5,6,7,8,9,10,\"Hallo\"]\n",
    "type(l1)\n",
    "b=np.array(l1)\n",
    "type(b)\n",
    "b"
   ]
  },
  {
   "cell_type": "code",
   "execution_count": 16,
   "id": "e6ac9749",
   "metadata": {},
   "outputs": [
    {
     "data": {
      "text/plain": [
       "dtype('int64')"
      ]
     },
     "execution_count": 16,
     "metadata": {},
     "output_type": "execute_result"
    }
   ],
   "source": [
    "a.dtype"
   ]
  },
  {
   "cell_type": "code",
   "execution_count": 17,
   "id": "6c110b16",
   "metadata": {},
   "outputs": [
    {
     "data": {
      "text/plain": [
       "dtype('<U21')"
      ]
     },
     "execution_count": 17,
     "metadata": {},
     "output_type": "execute_result"
    }
   ],
   "source": [
    "b.dtype"
   ]
  },
  {
   "cell_type": "code",
   "execution_count": 18,
   "id": "c814d66c",
   "metadata": {},
   "outputs": [
    {
     "data": {
      "text/plain": [
       "array([[1, 2, 3],\n",
       "       [4, 5, 6]])"
      ]
     },
     "execution_count": 18,
     "metadata": {},
     "output_type": "execute_result"
    }
   ],
   "source": [
    "#mehrdimensionale ndarrays---------------------------------------------------------------\n",
    "\n",
    "a2d=np.array([[1,2,3],[4,5,6]])\n",
    "a2d\n",
    "\n"
   ]
  },
  {
   "cell_type": "code",
   "execution_count": 19,
   "id": "92bc1671",
   "metadata": {},
   "outputs": [
    {
     "name": "stdout",
     "output_type": "stream",
     "text": [
      "[[1 2 3]\n",
      " [4 5 6]]\n",
      "Form:  (2, 3)\n",
      "Anzahl der Elemente:  6\n"
     ]
    }
   ],
   "source": [
    "a2d=np.array([[1,2,3],[4,5,6]])\n",
    "\n",
    "print(a2d)\n",
    "print(\"Form: \",a2d.shape)\n",
    "print(\"Anzahl der Elemente: \",a2d.size)"
   ]
  },
  {
   "cell_type": "code",
   "execution_count": 28,
   "id": "9437830e",
   "metadata": {},
   "outputs": [
    {
     "name": "stdout",
     "output_type": "stream",
     "text": [
      "[ 0  5 10 15 20 25 30 35 40 45 50 55 60 65 70 75 80 85 90 95]\n",
      "Zweites Element:  5\n",
      "Letztes Element:  95\n"
     ]
    },
    {
     "data": {
      "text/plain": [
       "array([ 5, 10, 15])"
      ]
     },
     "execution_count": 28,
     "metadata": {},
     "output_type": "execute_result"
    }
   ],
   "source": [
    "#zugriff auf Elemente---------------------------------------------------------------\n",
    "\n",
    "print(a)\n",
    "print(\"Zweites Element: \",a[1])\n",
    "print(\"Letztes Element: \",a[-1])\n",
    "a[1:4] #Slicing"
   ]
  },
  {
   "cell_type": "code",
   "execution_count": 34,
   "id": "e085960c",
   "metadata": {},
   "outputs": [
    {
     "name": "stdout",
     "output_type": "stream",
     "text": [
      "[ 0  5 10 15 20 25 30 35 40 45 50 55 60 65 70 75 80 85 90 95]\n",
      "Zweites Element:  5\n",
      "Letztes Element:  95\n",
      "---------------------------------------------------------------------------\n",
      "Anzeigen der ersten Liste:  [1 2 3]\n",
      "Anzeigen des 2. Elementes der 2. Liste: 5\n",
      "---------------------------------------------------------------------------\n",
      "Elemente mit dem Index 1,2,3: [ 5 10 15]\n",
      "Elemente ab dem Index 3:  [15 20 25 30 35 40 45 50 55 60 65 70 75 80 85 90 95]\n",
      "Elemente bis Index 10 : [ 0  5 10 15 20 25 30 35 40 45 50]\n",
      "Erste Liste 1 bis 2:  [4]\n"
     ]
    }
   ],
   "source": [
    "print(a)\n",
    "print(\"Zweites Element: \",a[1])\n",
    "print(\"Letztes Element: \",a[-1])\n",
    "print(\"---------------------------------------------------------------------------\")\n",
    "print(\"Anzeigen der ersten Liste: \",a2d[0])\n",
    "print(\"Anzeigen des 2. Elementes der 2. Liste:\",a2d[1,1])\n",
    "\n",
    "print(\"---------------------------------------------------------------------------\")\n",
    "\n",
    "#Slicing\n",
    "print(\"Elemente mit dem Index 1,2,3:\",a[1:4])\n",
    "print(\"Elemente ab dem Index 3: \",a[3:])\n",
    "print(\"Elemente bis Index 10 :\",a[:11])\n",
    "\n",
    "print(\"Erste Liste 1 bis 2: \",a2d[1,0:1])"
   ]
  },
  {
   "cell_type": "code",
   "execution_count": 5,
   "id": "7c998bc7",
   "metadata": {},
   "outputs": [],
   "source": [
    "#Funktionen auf alle Elemente---------------------------------------------------------------\n",
    "\n",
    "a.sum() #Summe aller Zahlen in Array a\n",
    "a.max() #Maximum aller Zahlen\n",
    "a.mean() #Mittelwert\n",
    "\n",
    "#Aufruf über np\n",
    "np.median(a)\n",
    "\n",
    "#Funktionen auf jedem Element\n",
    "np.sqrt(a)\n",
    "a*2\n",
    "a*a\n",
    "\n",
    "temperaturen=np.arange(-10,10)\n",
    "temperaturen*9/5+32"
   ]
  },
  {
   "cell_type": "code",
   "execution_count": 28,
   "id": "e8731276",
   "metadata": {},
   "outputs": [
    {
     "data": {
      "text/plain": [
       "array([20., 21., 24., 19., 25., 23., 24., 24., 21., 25., 21., 19., 28.,\n",
       "       27., 23.])"
      ]
     },
     "execution_count": 28,
     "metadata": {},
     "output_type": "execute_result"
    }
   ],
   "source": [
    "#Laden einer Textdatei\n",
    "\n",
    "basketball= np.loadtxt(\"basketball_alter.txt\")\n",
    "basketball"
   ]
  },
  {
   "cell_type": "code",
   "execution_count": 30,
   "id": "0f237406",
   "metadata": {},
   "outputs": [
    {
     "data": {
      "text/plain": [
       "array([20., 21., 24., 19., 25., 23., 24., 24., 21., 25., 21., 19., 28.,\n",
       "       27., 23.])"
      ]
     },
     "execution_count": 30,
     "metadata": {},
     "output_type": "execute_result"
    }
   ],
   "source": [
    "np.loadtxt(\"basketball_alter.txt\",dtype=\"int\")\n",
    "type(basketball)\n",
    "basketball.dtype\n",
    "basketball\n",
    "\n"
   ]
  },
  {
   "cell_type": "code",
   "execution_count": 31,
   "id": "3a8ee511",
   "metadata": {},
   "outputs": [
    {
     "data": {
      "text/plain": [
       "numpy.ndarray"
      ]
     },
     "execution_count": 31,
     "metadata": {},
     "output_type": "execute_result"
    }
   ],
   "source": [
    "ba= np.loadtxt(\"basketball_alter.txt\")\n",
    "type(ba)"
   ]
  },
  {
   "cell_type": "code",
   "execution_count": 33,
   "id": "754955c3",
   "metadata": {},
   "outputs": [
    {
     "data": {
      "text/plain": [
       "array([19., 20., 21., 23., 24., 25., 27., 28.])"
      ]
     },
     "execution_count": 33,
     "metadata": {},
     "output_type": "execute_result"
    }
   ],
   "source": [
    "#Absolute Häufigkeiten zählen mit NumPy---------------------------------------------------------------\n",
    "\n",
    "np.unique(ba)\n"
   ]
  },
  {
   "cell_type": "code",
   "execution_count": 34,
   "id": "cb2b0af7",
   "metadata": {},
   "outputs": [
    {
     "data": {
      "text/plain": [
       "(array([19., 20., 21., 23., 24., 25., 27., 28.]),\n",
       " array([2, 1, 3, 2, 3, 2, 1, 1]))"
      ]
     },
     "execution_count": 34,
     "metadata": {},
     "output_type": "execute_result"
    }
   ],
   "source": [
    "np.unique(ba, return_counts=True)"
   ]
  },
  {
   "cell_type": "code",
   "execution_count": 36,
   "id": "f3589611",
   "metadata": {},
   "outputs": [
    {
     "data": {
      "text/plain": [
       "array([19., 20., 21., 23., 24., 25., 27., 28.])"
      ]
     },
     "execution_count": 36,
     "metadata": {},
     "output_type": "execute_result"
    }
   ],
   "source": [
    "x,y=np.unique(ba, return_counts=True)\n",
    "x\n"
   ]
  },
  {
   "cell_type": "code",
   "execution_count": 37,
   "id": "e6fa1299",
   "metadata": {},
   "outputs": [
    {
     "data": {
      "text/plain": [
       "array([2, 1, 3, 2, 3, 2, 1, 1])"
      ]
     },
     "execution_count": 37,
     "metadata": {},
     "output_type": "execute_result"
    }
   ],
   "source": [
    "x,y=np.unique(ba, return_counts=True)\n",
    "y"
   ]
  },
  {
   "cell_type": "code",
   "execution_count": 43,
   "id": "724c0433",
   "metadata": {},
   "outputs": [
    {
     "name": "stdout",
     "output_type": "stream",
     "text": [
      "Lebensdauer: [19. 20. 21. 23. 24. 25. 27. 28.]\n",
      "abs.Häufigkeit:  [2 1 3 2 3 2 1 1]\n",
      "15 Personen\n",
      "----------------------------------------------\n"
     ]
    },
    {
     "data": {
      "text/plain": [
       "array([13.33333333,  6.66666667, 20.        , 13.33333333, 20.        ,\n",
       "       13.33333333,  6.66666667,  6.66666667])"
      ]
     },
     "execution_count": 43,
     "metadata": {},
     "output_type": "execute_result"
    }
   ],
   "source": [
    "alter, anz=np.unique(ba, return_counts=True)\n",
    "print(\"Lebensdauer:\",alter )\n",
    "print(\"abs.Häufigkeit: \",anz)\n",
    "total=anz.sum()\n",
    "print(total,\"Personen\")\n",
    "print(\"----------------------------------------------\")\n",
    "h_abs=anz\n",
    "h_rel=anz*100/total\n",
    "h_rel"
   ]
  },
  {
   "cell_type": "code",
   "execution_count": 48,
   "id": "8064d4d4",
   "metadata": {},
   "outputs": [
    {
     "data": {
      "text/plain": [
       "(array([2., 1., 3., 0., 2., 3., 2., 0., 1., 1.]),\n",
       " array([19. , 19.9, 20.8, 21.7, 22.6, 23.5, 24.4, 25.3, 26.2, 27.1, 28. ]),\n",
       " <BarContainer object of 10 artists>)"
      ]
     },
     "execution_count": 48,
     "metadata": {},
     "output_type": "execute_result"
    },
    {
     "data": {
      "image/png": "[encoded data removed]",
      "text/plain": [
       "<Figure size 432x288 with 1 Axes>"
      ]
     },
     "metadata": {
      "needs_background": "light"
     },
     "output_type": "display_data"
    }
   ],
   "source": [
    "plt.hist(ba)"
   ]
  },
  {
   "cell_type": "code",
   "execution_count": 47,
   "id": "669361d5",
   "metadata": {},
   "outputs": [
    {
     "data": {
      "text/plain": [
       "(array([ 2.,  3.,  6.,  6.,  8., 11., 13., 13., 14., 15.]),\n",
       " array([19. , 19.9, 20.8, 21.7, 22.6, 23.5, 24.4, 25.3, 26.2, 27.1, 28. ]),\n",
       " <BarContainer object of 10 artists>)"
      ]
     },
     "execution_count": 47,
     "metadata": {},
     "output_type": "execute_result"
    },
    {
     "data": {
      "image/png": "[encoded data removed]",
      "text/plain": [
       "<Figure size 432x288 with 1 Axes>"
      ]
     },
     "metadata": {
      "needs_background": "light"
     },
     "output_type": "display_data"
    }
   ],
   "source": [
    "plt.hist(ba,cumulative=True)"
   ]
  },
  {
   "cell_type": "code",
   "execution_count": 49,
   "id": "d12ed03a",
   "metadata": {},
   "outputs": [],
   "source": [
    "import matplotlib.pyplot as plt"
   ]
  },
  {
   "cell_type": "code",
   "execution_count": 50,
   "id": "e85e9bd5",
   "metadata": {},
   "outputs": [
    {
     "data": {
      "image/png": "[encoded data removed]",
      "text/plain": [
       "<Figure size 432x288 with 1 Axes>"
      ]
     },
     "metadata": {
      "needs_background": "light"
     },
     "output_type": "display_data"
    }
   ],
   "source": [
    "plt.hist(ba,cumulative=True)\n",
    "plt.grid()"
   ]
  },
  {
   "cell_type": "code",
   "execution_count": 51,
   "id": "916375d0",
   "metadata": {},
   "outputs": [
    {
     "data": {
      "image/png": "[encoded data removed]",
      "text/plain": [
       "<Figure size 432x288 with 1 Axes>"
      ]
     },
     "metadata": {
      "needs_background": "light"
     },
     "output_type": "display_data"
    }
   ],
   "source": [
    "plt.hist(ba,cumulative=True)\n",
    "plt.yticks(np.arange(16))\n",
    "plt.grid()\n"
   ]
  },
  {
   "cell_type": "code",
   "execution_count": 52,
   "id": "112f3827",
   "metadata": {},
   "outputs": [
    {
     "data": {
      "text/plain": [
       "Text(0.5, 1.0, 'Empirische Verteilungsfunktion für Basketballspieleralter')"
      ]
     },
     "execution_count": 52,
     "metadata": {},
     "output_type": "execute_result"
    },
    {
     "data": {
      "image/png": "[encoded data removed]",
      "text/plain": [
       "<Figure size 432x288 with 1 Axes>"
      ]
     },
     "metadata": {
      "needs_background": "light"
     },
     "output_type": "display_data"
    }
   ],
   "source": [
    "plt.hist(ba,cumulative=True)\n",
    "plt.yticks(np.arange(16))\n",
    "plt.grid()\n",
    "plt.title(\"Empirische Verteilungsfunktion für Basketballspieleralter\")"
   ]
  },
  {
   "cell_type": "code",
   "execution_count": null,
   "id": "d23c2dc8",
   "metadata": {},
   "outputs": [],
   "source": []
  }
 ],
 "metadata": {
  "kernelspec": {
   "display_name": "Python 3 (ipykernel)",
   "language": "python",
   "name": "python3"
  },
  "language_info": {
   "codemirror_mode": {
    "name": "ipython",
    "version": 3
   },
   "file_extension": ".py",
   "mimetype": "text/x-python",
   "name": "python",
   "nbconvert_exporter": "python",
   "pygments_lexer": "ipython3",
   "version": "3.9.7"
  }
 },
 "nbformat": 4,
 "nbformat_minor": 5
}
