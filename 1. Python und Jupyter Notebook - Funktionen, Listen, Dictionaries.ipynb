{
 "cells": [
  {
   "cell_type": "markdown",
   "id": "44f036c0",
   "metadata": {},
   "source": [
    "# Funktionen, Listen und Dictionaries\n",
    "## 13.01.2022"
   ]
  },
  {
   "cell_type": "code",
   "execution_count": 10,
   "id": "684a23b5",
   "metadata": {},
   "outputs": [
    {
     "data": {
      "text/plain": [
       "['Tick', 'Trick', 'Track', 'Donald']"
      ]
     },
     "execution_count": 10,
     "metadata": {},
     "output_type": "execute_result"
    }
   ],
   "source": [
    "# Liste in Python\n",
    "neffen=[\"Tick\", \"Trick\", \"Track\"]\n",
    "\n",
    "neffen #alles\n",
    "neffen[0] #Tick\n",
    "neffen[1] #Trick\n",
    "neffen[-1] #Track\n",
    "\n",
    "neffen.append(\"Donald\") # append komutu sona ekleme yapar\n",
    "neffen # appendi yazdirir\n"
   ]
  },
  {
   "cell_type": "code",
   "execution_count": null,
   "id": "f8295787",
   "metadata": {},
   "outputs": [],
   "source": [
    "# https://www.python-kurs.eu/"
   ]
  },
  {
   "cell_type": "code",
   "execution_count": 13,
   "id": "2db1de04",
   "metadata": {},
   "outputs": [
    {
     "data": {
      "text/plain": [
       "['Donald', 'Donald', 'Tick', 'Track', 'Trick']"
      ]
     },
     "execution_count": 13,
     "metadata": {},
     "output_type": "execute_result"
    }
   ],
   "source": [
    "neffen.sort()\n",
    "neffen"
   ]
  },
  {
   "cell_type": "code",
   "execution_count": 18,
   "id": "799f5ef3",
   "metadata": {},
   "outputs": [
    {
     "name": "stdout",
     "output_type": "stream",
     "text": [
      "Donald ist ein Neffe.\n",
      "Donald ist ein Neffe.\n",
      "Tick ist ein Neffe.\n",
      "Track ist ein Neffe.\n",
      "Trick ist ein Neffe.\n"
     ]
    }
   ],
   "source": [
    "for a in neffen:\n",
    "    print(a,\"ist ein Neffe.\")"
   ]
  },
  {
   "cell_type": "code",
   "execution_count": 19,
   "id": "e99b767d",
   "metadata": {},
   "outputs": [
    {
     "data": {
      "text/plain": [
       "{'cold': 'kalt', 'house': 'haus', 'cat': 'Katze'}"
      ]
     },
     "execution_count": 19,
     "metadata": {},
     "output_type": "execute_result"
    }
   ],
   "source": [
    "#Dictionary in Python\n",
    "woerterbuch = {\"cold\": \"kalt\",\"house\": \"haus\", \"cat\": \"Katze\" }\n",
    "woerterbuch"
   ]
  },
  {
   "cell_type": "code",
   "execution_count": 20,
   "id": "f5941717",
   "metadata": {},
   "outputs": [
    {
     "data": {
      "text/plain": [
       "<function dict.keys>"
      ]
     },
     "execution_count": 20,
     "metadata": {},
     "output_type": "execute_result"
    }
   ],
   "source": [
    "woerterbuch.keys"
   ]
  },
  {
   "cell_type": "code",
   "execution_count": 21,
   "id": "31a27641",
   "metadata": {},
   "outputs": [
    {
     "data": {
      "text/plain": [
       "dict_keys(['cold', 'house', 'cat'])"
      ]
     },
     "execution_count": 21,
     "metadata": {},
     "output_type": "execute_result"
    }
   ],
   "source": [
    "woerterbuch.keys()"
   ]
  },
  {
   "cell_type": "code",
   "execution_count": 22,
   "id": "1878d3d5",
   "metadata": {},
   "outputs": [
    {
     "data": {
      "text/plain": [
       "dict_items([('cold', 'kalt'), ('house', 'haus'), ('cat', 'Katze')])"
      ]
     },
     "execution_count": 22,
     "metadata": {},
     "output_type": "execute_result"
    }
   ],
   "source": [
    "woerterbuch.items()"
   ]
  },
  {
   "cell_type": "code",
   "execution_count": 24,
   "id": "ba95d016",
   "metadata": {},
   "outputs": [
    {
     "name": "stdout",
     "output_type": "stream",
     "text": [
      "Cold ist im Wörterbuch vorhanden\n"
     ]
    }
   ],
   "source": [
    "woerterbuch.keys()\n",
    "woerterbuch.items()\n",
    "if \"cold\" in woerterbuch.keys():\n",
    "    print(\"Cold ist im Wörterbuch vorhanden\")"
   ]
  },
  {
   "cell_type": "code",
   "execution_count": 30,
   "id": "4b4067db",
   "metadata": {},
   "outputs": [
    {
     "name": "stdout",
     "output_type": "stream",
     "text": [
      "lala ist im Wörterbuch vorhanden\n"
     ]
    },
    {
     "data": {
      "text/plain": [
       "{'cold': 'kalt', 'house': 'haus', 'cat': 'Katze', 'lala': 'keine Ahnung'}"
      ]
     },
     "execution_count": 30,
     "metadata": {},
     "output_type": "execute_result"
    }
   ],
   "source": [
    "woerterbuch.keys()\n",
    "woerterbuch.items()\n",
    "\n",
    "k=\"lala\"\n",
    "if k in woerterbuch.keys():\n",
    "    print(k, \"ist im Wörterbuch vorhanden\")\n",
    "else:\n",
    "    woerterbuch[k]=\"keine Ahnung\"\n",
    "woerterbuch"
   ]
  },
  {
   "cell_type": "code",
   "execution_count": 31,
   "id": "c5aca444",
   "metadata": {},
   "outputs": [
    {
     "data": {
      "text/plain": [
       "['Donald', 'Donald', 'Tick', 'Track', 'Trick']"
      ]
     },
     "execution_count": 31,
     "metadata": {},
     "output_type": "execute_result"
    }
   ],
   "source": [
    "# Vorsicht bei Listen\n",
    "\n",
    "neffenNeu=neffen\n",
    "neffenNeu"
   ]
  },
  {
   "cell_type": "code",
   "execution_count": 32,
   "id": "eb8d8728",
   "metadata": {},
   "outputs": [
    {
     "data": {
      "text/plain": [
       "['Donald', 'Donald', 'Tick', 'Track', 'Tricky']"
      ]
     },
     "execution_count": 32,
     "metadata": {},
     "output_type": "execute_result"
    }
   ],
   "source": [
    "neffenNeu=neffen\n",
    "neffen[4]=\"Tricky\"\n",
    "neffenNeu"
   ]
  },
  {
   "cell_type": "code",
   "execution_count": 33,
   "id": "1fbd0036",
   "metadata": {},
   "outputs": [
    {
     "name": "stdout",
     "output_type": "stream",
     "text": [
      "2351514512832 ['Donald', 'Donald', 'Tick', 'Track', 'Tricky']\n",
      "2351547410368 ['Donald', 'Donald', 'Tick', 'Track', 'Tricky']\n"
     ]
    }
   ],
   "source": [
    "neffenNeu=neffen.copy()\n",
    "neffen[4]=\"Tricky\"\n",
    "\n",
    "print(id(neffen),neffen)   #id bize ayni objekt olup olmadigini gösterir\n",
    "print(id(neffenNeu),neffenNeu)"
   ]
  },
  {
   "cell_type": "markdown",
   "id": "198a0a3f",
   "metadata": {},
   "source": [
    "# Funktion definieren"
   ]
  },
  {
   "cell_type": "code",
   "execution_count": 37,
   "id": "020d6c0c",
   "metadata": {},
   "outputs": [
    {
     "name": "stdout",
     "output_type": "stream",
     "text": [
      "102\n",
      "21\n"
     ]
    }
   ],
   "source": [
    "def addiere_2(wert):\n",
    "    return wert+2\n",
    "print(addiere_2(100))\n",
    "\n",
    "def summe(a,b):\n",
    "    s=a+b\n",
    "    return s\n",
    "print(summe(17,4))"
   ]
  },
  {
   "cell_type": "code",
   "execution_count": 38,
   "id": "66f76458",
   "metadata": {},
   "outputs": [
    {
     "name": "stdout",
     "output_type": "stream",
     "text": [
      "Geben Sie eine Zahl ein: 23\n",
      "Sie haben 23 eingegeben!\n"
     ]
    }
   ],
   "source": [
    "# User Input\n",
    "\n",
    "wert=input(\"Geben Sie eine Zahl ein: \")\n",
    "print(\"Sie haben\", wert, \"eingegeben!\")"
   ]
  },
  {
   "cell_type": "code",
   "execution_count": null,
   "id": "14446b2f",
   "metadata": {},
   "outputs": [],
   "source": []
  }
 ],
 "metadata": {
  "kernelspec": {
   "display_name": "Python 3 (ipykernel)",
   "language": "python",
   "name": "python3"
  },
  "language_info": {
   "codemirror_mode": {
    "name": "ipython",
    "version": 3
   },
   "file_extension": ".py",
   "mimetype": "text/x-python",
   "name": "python",
   "nbconvert_exporter": "python",
   "pygments_lexer": "ipython3",
   "version": "3.9.7"
  }
 },
 "nbformat": 4,
 "nbformat_minor": 5
}
