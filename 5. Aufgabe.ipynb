{
 "cells": [
  {
   "cell_type": "code",
   "execution_count": 1,
   "id": "b51ca736",
   "metadata": {},
   "outputs": [],
   "source": [
    "import numpy as np\n",
    "import matplotlib.pyplot as plt"
   ]
  },
  {
   "cell_type": "code",
   "execution_count": 2,
   "id": "40075ca7",
   "metadata": {
    "scrolled": true
   },
   "outputs": [
    {
     "data": {
      "text/plain": [
       "array([[17. , 21. , 15. , 20. , 24. , 29. , 27. , 28. , 28. , 23. ,  7. ,\n",
       "        27. , 28. , 27. , 22. , 26. , 23. , 21. , 27. , 22. , 25. , 20. ,\n",
       "        21. , 16. , 19. , 23. , 26. , 18. , 25. , 23. , 32. , 27. , 23. ,\n",
       "        22. , 27. , 28. , 31. , 26. , 32. , 28. , 27. , 20. , 23. , 19. ,\n",
       "        33. , 19. , 21. , 25. , 26. , 27. , 27. , 25. , 24. , 16. , 23. ,\n",
       "        34. , 22. , 25. , 15. , 32. , 23. , 29. , 26. , 26. , 24. , 23. ,\n",
       "        24. , 28. , 24. , 22. , 28. , 17. , 28. , 27. , 25. , 33. , 28. ,\n",
       "        22. , 20. , 14. , 26. , 25. , 21. , 17. , 23. , 29. , 32. , 26. ,\n",
       "        23. , 23. , 30. , 26. , 32. , 29. , 19. , 26. , 26. , 36. , 24. ,\n",
       "        29. ],\n",
       "       [ 5. ,  4.3,  5. ,  4.3,  4. ,  3. ,  3.3,  3.3,  3.3,  4. ,  6. ,\n",
       "         3.3,  3.3,  3.3,  4. ,  3.7,  4. ,  4.3,  3.3,  4. ,  4. ,  4.3,\n",
       "         4.3,  5. ,  4.7,  4. ,  3.7,  4.7,  4. ,  4. ,  2.3,  3.3,  4. ,\n",
       "         4. ,  3.3,  3.3,  2.7,  3.7,  2.3,  3.3,  3.3,  4.3,  4. ,  4.7,\n",
       "         2.3,  4.7,  4.3,  4. ,  3.7,  3.3,  3.3,  4. ,  4. ,  5. ,  4. ,\n",
       "         2. ,  4. ,  4. ,  5. ,  2.3,  4. ,  3. ,  3.7,  3.7,  4. ,  4. ,\n",
       "         4. ,  3.3,  4. ,  4. ,  3.3,  5. ,  3.3,  3.3,  4. ,  2.3,  3.3,\n",
       "         4. ,  4.3,  5. ,  3.7,  4. ,  4.3,  5. ,  4. ,  3. ,  2.3,  3.7,\n",
       "         4. ,  4. ,  3. ,  3.7,  2.3,  3. ,  4.7,  3.7,  3.7,  1.7,  4. ,\n",
       "         3. ]])"
      ]
     },
     "execution_count": 2,
     "metadata": {},
     "output_type": "execute_result"
    }
   ],
   "source": [
    "#An der Hochschule Paderborn wurde im Fach Statistik eine Klausur geschrieben.\n",
    "#In einer Klausur, bei der maximal 40 Punkte erreicht werden konnten, nahmen 100 Studierende teil.\n",
    "\n",
    "# a) Ergänzen Sie für die Punkte und die Noten folgende Angaben:\n",
    "\n",
    "liste=np.loadtxt(\"PunkteUndNoten.txt\")\n",
    "liste"
   ]
  },
  {
   "cell_type": "code",
   "execution_count": 3,
   "id": "ad5b2b8a",
   "metadata": {},
   "outputs": [
    {
     "name": "stdout",
     "output_type": "stream",
     "text": [
      "0.25 Quantil-> 22.0\n",
      "0.50 Quantil-> 25.0\n",
      "0.75 Quantil-> 27.25\n",
      "---------------------\n",
      "0.25 Quantil-> 3.3\n",
      "0.50 Quantil-> 4.0\n",
      "0.75 Quantil-> 4.0\n"
     ]
    }
   ],
   "source": [
    "print(\"0.25 Quantil->\", np.quantile(liste[0],0.25))\n",
    "print(\"0.50 Quantil->\",np.quantile(liste[0],0.50))\n",
    "print(\"0.75 Quantil->\",np.quantile(liste[0],0.75))\n",
    "\n",
    "print(\"---------------------\")\n",
    "\n",
    "print(\"0.25 Quantil->\", np.quantile(liste[1],0.25))\n",
    "print(\"0.50 Quantil->\",np.quantile(liste[1],0.50))\n",
    "print(\"0.75 Quantil->\",np.quantile(liste[1],0.75))"
   ]
  },
  {
   "cell_type": "code",
   "execution_count": 9,
   "id": "124d53f3",
   "metadata": {},
   "outputs": [
    {
     "data": {
      "text/plain": [
       "Text(0.5, 0, 'Punkte bis 40')"
      ]
     },
     "execution_count": 9,
     "metadata": {},
     "output_type": "execute_result"
    },
    {
     "data": {
      "image/png": "[encoded data removed]",
      "text/plain": [
       "<Figure size 432x288 with 1 Axes>"
      ]
     },
     "metadata": {
      "needs_background": "light"
     },
     "output_type": "display_data"
    }
   ],
   "source": [
    "plt.hist(liste,cumulative=True)\n",
    "plt.yticks()\n",
    "plt.grid()\n",
    "plt.title(\"Empirische Verteilungsfunktion für Klausuren\")\n",
    "plt.ylabel(\"Punkte bis 7\")\n",
    "plt.xlabel(\"Punkte bis 40\")"
   ]
  },
  {
   "cell_type": "code",
   "execution_count": null,
   "id": "b62b0fc9",
   "metadata": {},
   "outputs": [],
   "source": []
  },
  {
   "cell_type": "code",
   "execution_count": null,
   "id": "ac145fdd",
   "metadata": {},
   "outputs": [],
   "source": []
  },
  {
   "cell_type": "code",
   "execution_count": null,
   "id": "7d0e3877",
   "metadata": {},
   "outputs": [],
   "source": []
  },
  {
   "cell_type": "code",
   "execution_count": null,
   "id": "b09b785c",
   "metadata": {},
   "outputs": [],
   "source": []
  },
  {
   "cell_type": "code",
   "execution_count": null,
   "id": "3c3406ff",
   "metadata": {},
   "outputs": [],
   "source": []
  }
 ],
 "metadata": {
  "kernelspec": {
   "display_name": "Python 3 (ipykernel)",
   "language": "python",
   "name": "python3"
  },
  "language_info": {
   "codemirror_mode": {
    "name": "ipython",
    "version": 3
   },
   "file_extension": ".py",
   "mimetype": "text/x-python",
   "name": "python",
   "nbconvert_exporter": "python",
   "pygments_lexer": "ipython3",
   "version": "3.9.7"
  }
 },
 "nbformat": 4,
 "nbformat_minor": 5
}
