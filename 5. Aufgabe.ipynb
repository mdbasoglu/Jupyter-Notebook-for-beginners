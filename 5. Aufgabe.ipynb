{
 "cells": [
  {
   "cell_type": "code",
   "execution_count": 2,
   "id": "b51ca736",
   "metadata": {},
   "outputs": [],
   "source": [
    "import numpy as np\n",
    "import matplotlib.pyplot as plt"
   ]
  },
  {
   "cell_type": "code",
   "execution_count": 29,
   "id": "40075ca7",
   "metadata": {
    "scrolled": true
   },
   "outputs": [],
   "source": [
    "#An der Hochschule Paderborn wurde im Fach Statistik eine Klausur geschrieben.\n",
    "#In einer Klausur, bei der maximal 40 Punkte erreicht werden konnten, nahmen 100 Studierende teil.\n",
    "\n",
    "# a) Ergänzen Sie für die Punkte und die Noten folgende Angaben:\n",
    "\n",
    "listPunkte, listNoten = np.loadtxt(\"PunkteUndNoten.txt\")"
   ]
  },
  {
   "cell_type": "code",
   "execution_count": 30,
   "id": "ad5b2b8a",
   "metadata": {},
   "outputs": [
    {
     "name": "stdout",
     "output_type": "stream",
     "text": [
      "0.25 Quantil-> 22.0\n",
      "0.50 Quantil-> 25.0\n",
      "0.75 Quantil-> 27.25\n",
      "---------------------\n",
      "0.25 Quantil-> 3.3\n",
      "0.50 Quantil-> 4.0\n",
      "0.75 Quantil-> 4.0\n"
     ]
    }
   ],
   "source": [
    "print(\"0.25 Quantil->\", np.quantile(listPunkte,0.25))\n",
    "print(\"0.50 Quantil->\",np.quantile(listPunkte,0.50))\n",
    "print(\"0.75 Quantil->\",np.quantile(listPunkte,0.75))\n",
    "\n",
    "print(\"---------------------\")\n",
    "\n",
    "print(\"0.25 Quantil->\", np.quantile(listNoten,0.25))\n",
    "print(\"0.50 Quantil->\",np.quantile(listNoten,0.50))\n",
    "print(\"0.75 Quantil->\",np.quantile(listNoten,0.75))"
   ]
  },
  {
   "cell_type": "code",
   "execution_count": 31,
   "id": "7d0e3877",
   "metadata": {},
   "outputs": [
    {
     "data": {
      "text/plain": [
       "Text(0.5, 0, 'Lebensalter in Jahren')"
      ]
     },
     "execution_count": 31,
     "metadata": {},
     "output_type": "execute_result"
    },
    {
     "data": {
      "image/png": "[encoded data removed]",
      "text/plain": [
       "<Figure size 432x288 with 1 Axes>"
      ]
     },
     "metadata": {
      "needs_background": "light"
     },
     "output_type": "display_data"
    }
   ],
   "source": [
    "plt.hist(listNoten,cumulative=True)\n",
    "plt.grid()\n",
    "plt.title(\"Empirische Verteilungsfunktion für Basketballspieleralter\")\n",
    "plt.ylabel(\"Anzahl der Speieler\")\n",
    "plt.xlabel(\"Lebensalter in Jahren\")"
   ]
  },
  {
   "cell_type": "code",
   "execution_count": 33,
   "id": "b09b785c",
   "metadata": {},
   "outputs": [
    {
     "data": {
      "text/plain": [
       "Text(0.5, 0, 'Lebensalter in Jahren')"
      ]
     },
     "execution_count": 33,
     "metadata": {},
     "output_type": "execute_result"
    },
    {
     "data": {
      "image/png": "[encoded data removed]",
      "text/plain": [
       "<Figure size 432x288 with 1 Axes>"
      ]
     },
     "metadata": {
      "needs_background": "light"
     },
     "output_type": "display_data"
    }
   ],
   "source": [
    "plt.hist(listPunkte, cumulative=True)\n",
    "plt.grid()\n",
    "plt.title(\"Empirische Verteilungsfunktion für Basketballspieleralter\")\n",
    "plt.ylabel(\"Anzahl der Speieler\")\n",
    "plt.xlabel(\"Lebensalter in Jahren\")"
   ]
  },
  {
   "cell_type": "code",
   "execution_count": 34,
   "id": "3c3406ff",
   "metadata": {},
   "outputs": [
    {
     "data": {
      "text/plain": [
       "{'whiskers': [<matplotlib.lines.Line2D at 0x1ae369da9a0>,\n",
       "  <matplotlib.lines.Line2D at 0x1ae369dcb50>],\n",
       " 'caps': [<matplotlib.lines.Line2D at 0x1ae369d6a30>,\n",
       "  <matplotlib.lines.Line2D at 0x1ae369debb0>],\n",
       " 'boxes': [<matplotlib.lines.Line2D at 0x1ae369cbac0>],\n",
       " 'medians': [<matplotlib.lines.Line2D at 0x1ae369e1310>],\n",
       " 'fliers': [<matplotlib.lines.Line2D at 0x1ae369e1a90>],\n",
       " 'means': []}"
      ]
     },
     "execution_count": 34,
     "metadata": {},
     "output_type": "execute_result"
    },
    {
     "data": {
      "image/png": "[encoded data removed]",
      "text/plain": [
       "<Figure size 432x288 with 1 Axes>"
      ]
     },
     "metadata": {
      "needs_background": "light"
     },
     "output_type": "display_data"
    }
   ],
   "source": [
    "plt.boxplot(listNoten)\n",
    "\n"
   ]
  },
  {
   "cell_type": "code",
   "execution_count": 35,
   "id": "f8ad97aa",
   "metadata": {},
   "outputs": [
    {
     "data": {
      "text/plain": [
       "{'whiskers': [<matplotlib.lines.Line2D at 0x1ae36d4db50>,\n",
       "  <matplotlib.lines.Line2D at 0x1ae36d4deb0>],\n",
       " 'caps': [<matplotlib.lines.Line2D at 0x1ae36d5d790>,\n",
       "  <matplotlib.lines.Line2D at 0x1ae36d67310>],\n",
       " 'boxes': [<matplotlib.lines.Line2D at 0x1ae36d4d7c0>],\n",
       " 'medians': [<matplotlib.lines.Line2D at 0x1ae36d67b50>],\n",
       " 'fliers': [<matplotlib.lines.Line2D at 0x1ae36d51a90>],\n",
       " 'means': []}"
      ]
     },
     "execution_count": 35,
     "metadata": {},
     "output_type": "execute_result"
    },
    {
     "data": {
      "image/png": "[encoded data removed]",
      "text/plain": [
       "<Figure size 432x288 with 1 Axes>"
      ]
     },
     "metadata": {
      "needs_background": "light"
     },
     "output_type": "display_data"
    }
   ],
   "source": [
    "plt.boxplot(listNoten)"
   ]
  },
  {
   "cell_type": "code",
   "execution_count": null,
   "id": "4dc62a7a",
   "metadata": {},
   "outputs": [],
   "source": []
  }
 ],
 "metadata": {
  "kernelspec": {
   "display_name": "Python 3 (ipykernel)",
   "language": "python",
   "name": "python3"
  },
  "language_info": {
   "codemirror_mode": {
    "name": "ipython",
    "version": 3
   },
   "file_extension": ".py",
   "mimetype": "text/x-python",
   "name": "python",
   "nbconvert_exporter": "python",
   "pygments_lexer": "ipython3",
   "version": "3.9.7"
  }
 },
 "nbformat": 4,
 "nbformat_minor": 5
}
