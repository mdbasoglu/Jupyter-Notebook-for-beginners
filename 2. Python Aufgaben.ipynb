{
 "cells": [
  {
   "cell_type": "code",
   "execution_count": 1,
   "id": "f4fad2e1",
   "metadata": {},
   "outputs": [
    {
     "name": "stdout",
     "output_type": "stream",
     "text": [
      "Geben Sie eine Jahreszahl ein: 2000\n",
      "Sie haben 2000 eingegeben!\n",
      "2000 ist ein Schaltjahr!\n",
      "None\n"
     ]
    }
   ],
   "source": [
    "wert=input(\"Geben Sie eine Jahreszahl ein: \")\n",
    "print(\"Sie haben\", wert, \"eingegeben!\")\n",
    "\n",
    "def schaltjahr(wert):\n",
    "    if wert%4==0 or wert%100!=0:\n",
    "        if wert%400==0:\n",
    "            print(wert,\"ist ein Schaltjahr!\")\n",
    "        else:  \n",
    "            print(wert,\"ist nicht ein Schaltjahr!\")\n",
    "print(schaltjahr(wert))"
   ]
  },
  {
   "cell_type": "code",
   "execution_count": null,
   "id": "fa94eee4",
   "metadata": {},
   "outputs": [],
   "source": [
    "\n",
    "\n",
    "\n",
    "    "
   ]
  },
  {
   "cell_type": "code",
   "execution_count": null,
   "id": "a6fc8b11",
   "metadata": {},
   "outputs": [],
   "source": []
  }
 ],
 "metadata": {
  "kernelspec": {
   "display_name": "Python 3 (ipykernel)",
   "language": "python",
   "name": "python3"
  },
  "language_info": {
   "codemirror_mode": {
    "name": "ipython",
    "version": 3
   },
   "file_extension": ".py",
   "mimetype": "text/x-python",
   "name": "python",
   "nbconvert_exporter": "python",
   "pygments_lexer": "ipython3",
   "version": "3.9.7"
  }
 },
 "nbformat": 4,
 "nbformat_minor": 5
}
